{
 "cells": [
  {
   "cell_type": "markdown",
   "metadata": {},
   "source": [
    "## Churn Prediction"
   ]
  },
  {
   "cell_type": "markdown",
   "metadata": {},
   "source": [
    "Predicting whether or not a customer is categorized as churn based on past transaction data. The dataset is acquired from http://buku.dioskurn.com/buku1/ch9/churnprediction_ch9.csv"
   ]
  },
  {
   "cell_type": "code",
   "execution_count": 1,
   "metadata": {},
   "outputs": [],
   "source": [
    "import pandas as pd\n",
    "import numpy as np\n",
    "import matplotlib.pyplot as plt\n",
    "import seaborn as sns\n",
    "\n",
    "%matplotlib inline"
   ]
  },
  {
   "cell_type": "code",
   "execution_count": 2,
   "metadata": {},
   "outputs": [],
   "source": [
    "df=pd.read_csv('churnprediction_ch9.csv')"
   ]
  },
  {
   "cell_type": "code",
   "execution_count": 3,
   "metadata": {},
   "outputs": [
    {
     "data": {
      "text/html": [
       "<div>\n",
       "<style scoped>\n",
       "    .dataframe tbody tr th:only-of-type {\n",
       "        vertical-align: middle;\n",
       "    }\n",
       "\n",
       "    .dataframe tbody tr th {\n",
       "        vertical-align: top;\n",
       "    }\n",
       "\n",
       "    .dataframe thead th {\n",
       "        text-align: right;\n",
       "    }\n",
       "</style>\n",
       "<table border=\"1\" class=\"dataframe\">\n",
       "  <thead>\n",
       "    <tr style=\"text-align: right;\">\n",
       "      <th></th>\n",
       "      <th>customer_id</th>\n",
       "      <th>product</th>\n",
       "      <th>reload_1</th>\n",
       "      <th>reload_2</th>\n",
       "      <th>video</th>\n",
       "      <th>music</th>\n",
       "      <th>games</th>\n",
       "      <th>chat_1</th>\n",
       "      <th>chat_2</th>\n",
       "      <th>socmed_1</th>\n",
       "      <th>socmed_2</th>\n",
       "      <th>internet</th>\n",
       "      <th>days_active</th>\n",
       "      <th>tenure</th>\n",
       "      <th>churn</th>\n",
       "    </tr>\n",
       "  </thead>\n",
       "  <tbody>\n",
       "    <tr>\n",
       "      <th>0</th>\n",
       "      <td>285fae8412c4720a0c79d95f98434422</td>\n",
       "      <td>Kartu A</td>\n",
       "      <td>27734.30</td>\n",
       "      <td>24381.32</td>\n",
       "      <td>22000.0</td>\n",
       "      <td>33009.9</td>\n",
       "      <td>25669.97</td>\n",
       "      <td>1716.0</td>\n",
       "      <td>2145.0</td>\n",
       "      <td>0.0</td>\n",
       "      <td>792.0</td>\n",
       "      <td>11000.0</td>\n",
       "      <td>15</td>\n",
       "      <td>776</td>\n",
       "      <td>0</td>\n",
       "    </tr>\n",
       "    <tr>\n",
       "      <th>1</th>\n",
       "      <td>f45bce87ca6bf100f222fcc0db06b624</td>\n",
       "      <td>Kartu A</td>\n",
       "      <td>26433.00</td>\n",
       "      <td>26515.50</td>\n",
       "      <td>0.0</td>\n",
       "      <td>0.0</td>\n",
       "      <td>0.00</td>\n",
       "      <td>0.0</td>\n",
       "      <td>15444.0</td>\n",
       "      <td>0.0</td>\n",
       "      <td>0.0</td>\n",
       "      <td>74151.0</td>\n",
       "      <td>13</td>\n",
       "      <td>352</td>\n",
       "      <td>0</td>\n",
       "    </tr>\n",
       "    <tr>\n",
       "      <th>2</th>\n",
       "      <td>09b54557b1e2a10d998e3473a9ccd2a0</td>\n",
       "      <td>Kartu A</td>\n",
       "      <td>93212.17</td>\n",
       "      <td>67101.83</td>\n",
       "      <td>0.0</td>\n",
       "      <td>0.0</td>\n",
       "      <td>0.00</td>\n",
       "      <td>86795.5</td>\n",
       "      <td>94649.5</td>\n",
       "      <td>330.0</td>\n",
       "      <td>1485.0</td>\n",
       "      <td>27467.0</td>\n",
       "      <td>15</td>\n",
       "      <td>1987</td>\n",
       "      <td>0</td>\n",
       "    </tr>\n",
       "    <tr>\n",
       "      <th>3</th>\n",
       "      <td>11f252f48be36f93dd429f2ec86cb2f5</td>\n",
       "      <td>Kartu A</td>\n",
       "      <td>183.33</td>\n",
       "      <td>1087.17</td>\n",
       "      <td>0.0</td>\n",
       "      <td>0.0</td>\n",
       "      <td>0.00</td>\n",
       "      <td>0.0</td>\n",
       "      <td>0.0</td>\n",
       "      <td>0.0</td>\n",
       "      <td>0.0</td>\n",
       "      <td>0.0</td>\n",
       "      <td>2</td>\n",
       "      <td>285</td>\n",
       "      <td>0</td>\n",
       "    </tr>\n",
       "    <tr>\n",
       "      <th>4</th>\n",
       "      <td>a8df29ae9195eea348d2f74c967b978d</td>\n",
       "      <td>Kartu A</td>\n",
       "      <td>95296.67</td>\n",
       "      <td>76246.50</td>\n",
       "      <td>0.0</td>\n",
       "      <td>0.0</td>\n",
       "      <td>11000.00</td>\n",
       "      <td>118800.0</td>\n",
       "      <td>104940.0</td>\n",
       "      <td>0.0</td>\n",
       "      <td>0.0</td>\n",
       "      <td>63855.0</td>\n",
       "      <td>15</td>\n",
       "      <td>1081</td>\n",
       "      <td>0</td>\n",
       "    </tr>\n",
       "  </tbody>\n",
       "</table>\n",
       "</div>"
      ],
      "text/plain": [
       "                        customer_id  product  reload_1  reload_2    video  \\\n",
       "0  285fae8412c4720a0c79d95f98434422  Kartu A  27734.30  24381.32  22000.0   \n",
       "1  f45bce87ca6bf100f222fcc0db06b624  Kartu A  26433.00  26515.50      0.0   \n",
       "2  09b54557b1e2a10d998e3473a9ccd2a0  Kartu A  93212.17  67101.83      0.0   \n",
       "3  11f252f48be36f93dd429f2ec86cb2f5  Kartu A    183.33   1087.17      0.0   \n",
       "4  a8df29ae9195eea348d2f74c967b978d  Kartu A  95296.67  76246.50      0.0   \n",
       "\n",
       "     music     games    chat_1    chat_2  socmed_1  socmed_2  internet  \\\n",
       "0  33009.9  25669.97    1716.0    2145.0       0.0     792.0   11000.0   \n",
       "1      0.0      0.00       0.0   15444.0       0.0       0.0   74151.0   \n",
       "2      0.0      0.00   86795.5   94649.5     330.0    1485.0   27467.0   \n",
       "3      0.0      0.00       0.0       0.0       0.0       0.0       0.0   \n",
       "4      0.0  11000.00  118800.0  104940.0       0.0       0.0   63855.0   \n",
       "\n",
       "   days_active  tenure  churn  \n",
       "0           15     776      0  \n",
       "1           13     352      0  \n",
       "2           15    1987      0  \n",
       "3            2     285      0  \n",
       "4           15    1081      0  "
      ]
     },
     "execution_count": 3,
     "metadata": {},
     "output_type": "execute_result"
    }
   ],
   "source": [
    "df.head()"
   ]
  },
  {
   "cell_type": "code",
   "execution_count": 4,
   "metadata": {},
   "outputs": [
    {
     "name": "stdout",
     "output_type": "stream",
     "text": [
      "<class 'pandas.core.frame.DataFrame'>\n",
      "RangeIndex: 10000 entries, 0 to 9999\n",
      "Data columns (total 15 columns):\n",
      " #   Column       Non-Null Count  Dtype  \n",
      "---  ------       --------------  -----  \n",
      " 0   customer_id  10000 non-null  object \n",
      " 1   product      10000 non-null  object \n",
      " 2   reload_1     10000 non-null  float64\n",
      " 3   reload_2     10000 non-null  float64\n",
      " 4   video        10000 non-null  float64\n",
      " 5   music        10000 non-null  float64\n",
      " 6   games        10000 non-null  float64\n",
      " 7   chat_1       10000 non-null  float64\n",
      " 8   chat_2       10000 non-null  float64\n",
      " 9   socmed_1     10000 non-null  float64\n",
      " 10  socmed_2     10000 non-null  float64\n",
      " 11  internet     10000 non-null  float64\n",
      " 12  days_active  10000 non-null  int64  \n",
      " 13  tenure       10000 non-null  int64  \n",
      " 14  churn        10000 non-null  int64  \n",
      "dtypes: float64(10), int64(3), object(2)\n",
      "memory usage: 1.1+ MB\n"
     ]
    }
   ],
   "source": [
    "df.info()"
   ]
  },
  {
   "cell_type": "code",
   "execution_count": 5,
   "metadata": {},
   "outputs": [],
   "source": [
    "churn=df.groupby('churn').count()"
   ]
  },
  {
   "cell_type": "code",
   "execution_count": 6,
   "metadata": {},
   "outputs": [
    {
     "data": {
      "text/html": [
       "<div>\n",
       "<style scoped>\n",
       "    .dataframe tbody tr th:only-of-type {\n",
       "        vertical-align: middle;\n",
       "    }\n",
       "\n",
       "    .dataframe tbody tr th {\n",
       "        vertical-align: top;\n",
       "    }\n",
       "\n",
       "    .dataframe thead th {\n",
       "        text-align: right;\n",
       "    }\n",
       "</style>\n",
       "<table border=\"1\" class=\"dataframe\">\n",
       "  <thead>\n",
       "    <tr style=\"text-align: right;\">\n",
       "      <th></th>\n",
       "      <th>customer_id</th>\n",
       "      <th>product</th>\n",
       "      <th>reload_1</th>\n",
       "      <th>reload_2</th>\n",
       "      <th>video</th>\n",
       "      <th>music</th>\n",
       "      <th>games</th>\n",
       "      <th>chat_1</th>\n",
       "      <th>chat_2</th>\n",
       "      <th>socmed_1</th>\n",
       "      <th>socmed_2</th>\n",
       "      <th>internet</th>\n",
       "      <th>days_active</th>\n",
       "      <th>tenure</th>\n",
       "    </tr>\n",
       "    <tr>\n",
       "      <th>churn</th>\n",
       "      <th></th>\n",
       "      <th></th>\n",
       "      <th></th>\n",
       "      <th></th>\n",
       "      <th></th>\n",
       "      <th></th>\n",
       "      <th></th>\n",
       "      <th></th>\n",
       "      <th></th>\n",
       "      <th></th>\n",
       "      <th></th>\n",
       "      <th></th>\n",
       "      <th></th>\n",
       "      <th></th>\n",
       "    </tr>\n",
       "  </thead>\n",
       "  <tbody>\n",
       "    <tr>\n",
       "      <th>0</th>\n",
       "      <td>8000</td>\n",
       "      <td>8000</td>\n",
       "      <td>8000</td>\n",
       "      <td>8000</td>\n",
       "      <td>8000</td>\n",
       "      <td>8000</td>\n",
       "      <td>8000</td>\n",
       "      <td>8000</td>\n",
       "      <td>8000</td>\n",
       "      <td>8000</td>\n",
       "      <td>8000</td>\n",
       "      <td>8000</td>\n",
       "      <td>8000</td>\n",
       "      <td>8000</td>\n",
       "    </tr>\n",
       "    <tr>\n",
       "      <th>1</th>\n",
       "      <td>2000</td>\n",
       "      <td>2000</td>\n",
       "      <td>2000</td>\n",
       "      <td>2000</td>\n",
       "      <td>2000</td>\n",
       "      <td>2000</td>\n",
       "      <td>2000</td>\n",
       "      <td>2000</td>\n",
       "      <td>2000</td>\n",
       "      <td>2000</td>\n",
       "      <td>2000</td>\n",
       "      <td>2000</td>\n",
       "      <td>2000</td>\n",
       "      <td>2000</td>\n",
       "    </tr>\n",
       "  </tbody>\n",
       "</table>\n",
       "</div>"
      ],
      "text/plain": [
       "       customer_id  product  reload_1  reload_2  video  music  games  chat_1  \\\n",
       "churn                                                                          \n",
       "0             8000     8000      8000      8000   8000   8000   8000    8000   \n",
       "1             2000     2000      2000      2000   2000   2000   2000    2000   \n",
       "\n",
       "       chat_2  socmed_1  socmed_2  internet  days_active  tenure  \n",
       "churn                                                             \n",
       "0        8000      8000      8000      8000         8000    8000  \n",
       "1        2000      2000      2000      2000         2000    2000  "
      ]
     },
     "execution_count": 6,
     "metadata": {},
     "output_type": "execute_result"
    }
   ],
   "source": [
    "churn"
   ]
  },
  {
   "cell_type": "code",
   "execution_count": 7,
   "metadata": {},
   "outputs": [
    {
     "data": {
      "text/plain": [
       "([<matplotlib.patches.Wedge at 0x19ce006b490>,\n",
       "  <matplotlib.patches.Wedge at 0x19ce006b940>],\n",
       " [Text(-0.8899187180267095, 0.6465637441936395, 'Aktif'),\n",
       "  Text(0.8899187482945414, -0.6465637025335375, 'Churn')],\n",
       " [Text(-0.48541020983275057, 0.3526711331965306, '80%'),\n",
       "  Text(0.4854102263424771, -0.3526711104728386, '20%')])"
      ]
     },
     "execution_count": 7,
     "metadata": {},
     "output_type": "execute_result"
    },
    {
     "data": {
      "image/png": "[encoded data removed]",
      "text/plain": [
       "<Figure size 432x288 with 1 Axes>"
      ]
     },
     "metadata": {},
     "output_type": "display_data"
    }
   ],
   "source": [
    "plt.pie(churn['customer_id'], labels=['Aktif', 'Churn'], autopct='%1.0f%%')"
   ]
  },
  {
   "cell_type": "code",
   "execution_count": 8,
   "metadata": {},
   "outputs": [],
   "source": [
    "#use one hot encoding to turn 'product' column into numerical values\n",
    "\n",
    "product=pd.get_dummies(df['product'], drop_first=True)"
   ]
  },
  {
   "cell_type": "code",
   "execution_count": 9,
   "metadata": {},
   "outputs": [],
   "source": [
    "df=pd.concat([df,product], axis=1)"
   ]
  },
  {
   "cell_type": "code",
   "execution_count": 10,
   "metadata": {},
   "outputs": [],
   "source": [
    "#drop the original 'product' column\n",
    "df.drop('product', axis=1, inplace=True)"
   ]
  },
  {
   "cell_type": "code",
   "execution_count": 11,
   "metadata": {},
   "outputs": [
    {
     "data": {
      "text/html": [
       "<div>\n",
       "<style scoped>\n",
       "    .dataframe tbody tr th:only-of-type {\n",
       "        vertical-align: middle;\n",
       "    }\n",
       "\n",
       "    .dataframe tbody tr th {\n",
       "        vertical-align: top;\n",
       "    }\n",
       "\n",
       "    .dataframe thead th {\n",
       "        text-align: right;\n",
       "    }\n",
       "</style>\n",
       "<table border=\"1\" class=\"dataframe\">\n",
       "  <thead>\n",
       "    <tr style=\"text-align: right;\">\n",
       "      <th></th>\n",
       "      <th>customer_id</th>\n",
       "      <th>reload_1</th>\n",
       "      <th>reload_2</th>\n",
       "      <th>video</th>\n",
       "      <th>music</th>\n",
       "      <th>games</th>\n",
       "      <th>chat_1</th>\n",
       "      <th>chat_2</th>\n",
       "      <th>socmed_1</th>\n",
       "      <th>socmed_2</th>\n",
       "      <th>internet</th>\n",
       "      <th>days_active</th>\n",
       "      <th>tenure</th>\n",
       "      <th>churn</th>\n",
       "      <th>Kartu B</th>\n",
       "      <th>Kartu C</th>\n",
       "    </tr>\n",
       "  </thead>\n",
       "  <tbody>\n",
       "    <tr>\n",
       "      <th>0</th>\n",
       "      <td>285fae8412c4720a0c79d95f98434422</td>\n",
       "      <td>27734.30</td>\n",
       "      <td>24381.32</td>\n",
       "      <td>22000.0</td>\n",
       "      <td>33009.9</td>\n",
       "      <td>25669.97</td>\n",
       "      <td>1716.0</td>\n",
       "      <td>2145.0</td>\n",
       "      <td>0.0</td>\n",
       "      <td>792.0</td>\n",
       "      <td>11000.0</td>\n",
       "      <td>15</td>\n",
       "      <td>776</td>\n",
       "      <td>0</td>\n",
       "      <td>0</td>\n",
       "      <td>0</td>\n",
       "    </tr>\n",
       "    <tr>\n",
       "      <th>1</th>\n",
       "      <td>f45bce87ca6bf100f222fcc0db06b624</td>\n",
       "      <td>26433.00</td>\n",
       "      <td>26515.50</td>\n",
       "      <td>0.0</td>\n",
       "      <td>0.0</td>\n",
       "      <td>0.00</td>\n",
       "      <td>0.0</td>\n",
       "      <td>15444.0</td>\n",
       "      <td>0.0</td>\n",
       "      <td>0.0</td>\n",
       "      <td>74151.0</td>\n",
       "      <td>13</td>\n",
       "      <td>352</td>\n",
       "      <td>0</td>\n",
       "      <td>0</td>\n",
       "      <td>0</td>\n",
       "    </tr>\n",
       "    <tr>\n",
       "      <th>2</th>\n",
       "      <td>09b54557b1e2a10d998e3473a9ccd2a0</td>\n",
       "      <td>93212.17</td>\n",
       "      <td>67101.83</td>\n",
       "      <td>0.0</td>\n",
       "      <td>0.0</td>\n",
       "      <td>0.00</td>\n",
       "      <td>86795.5</td>\n",
       "      <td>94649.5</td>\n",
       "      <td>330.0</td>\n",
       "      <td>1485.0</td>\n",
       "      <td>27467.0</td>\n",
       "      <td>15</td>\n",
       "      <td>1987</td>\n",
       "      <td>0</td>\n",
       "      <td>0</td>\n",
       "      <td>0</td>\n",
       "    </tr>\n",
       "    <tr>\n",
       "      <th>3</th>\n",
       "      <td>11f252f48be36f93dd429f2ec86cb2f5</td>\n",
       "      <td>183.33</td>\n",
       "      <td>1087.17</td>\n",
       "      <td>0.0</td>\n",
       "      <td>0.0</td>\n",
       "      <td>0.00</td>\n",
       "      <td>0.0</td>\n",
       "      <td>0.0</td>\n",
       "      <td>0.0</td>\n",
       "      <td>0.0</td>\n",
       "      <td>0.0</td>\n",
       "      <td>2</td>\n",
       "      <td>285</td>\n",
       "      <td>0</td>\n",
       "      <td>0</td>\n",
       "      <td>0</td>\n",
       "    </tr>\n",
       "    <tr>\n",
       "      <th>4</th>\n",
       "      <td>a8df29ae9195eea348d2f74c967b978d</td>\n",
       "      <td>95296.67</td>\n",
       "      <td>76246.50</td>\n",
       "      <td>0.0</td>\n",
       "      <td>0.0</td>\n",
       "      <td>11000.00</td>\n",
       "      <td>118800.0</td>\n",
       "      <td>104940.0</td>\n",
       "      <td>0.0</td>\n",
       "      <td>0.0</td>\n",
       "      <td>63855.0</td>\n",
       "      <td>15</td>\n",
       "      <td>1081</td>\n",
       "      <td>0</td>\n",
       "      <td>0</td>\n",
       "      <td>0</td>\n",
       "    </tr>\n",
       "  </tbody>\n",
       "</table>\n",
       "</div>"
      ],
      "text/plain": [
       "                        customer_id  reload_1  reload_2    video    music  \\\n",
       "0  285fae8412c4720a0c79d95f98434422  27734.30  24381.32  22000.0  33009.9   \n",
       "1  f45bce87ca6bf100f222fcc0db06b624  26433.00  26515.50      0.0      0.0   \n",
       "2  09b54557b1e2a10d998e3473a9ccd2a0  93212.17  67101.83      0.0      0.0   \n",
       "3  11f252f48be36f93dd429f2ec86cb2f5    183.33   1087.17      0.0      0.0   \n",
       "4  a8df29ae9195eea348d2f74c967b978d  95296.67  76246.50      0.0      0.0   \n",
       "\n",
       "      games    chat_1    chat_2  socmed_1  socmed_2  internet  days_active  \\\n",
       "0  25669.97    1716.0    2145.0       0.0     792.0   11000.0           15   \n",
       "1      0.00       0.0   15444.0       0.0       0.0   74151.0           13   \n",
       "2      0.00   86795.5   94649.5     330.0    1485.0   27467.0           15   \n",
       "3      0.00       0.0       0.0       0.0       0.0       0.0            2   \n",
       "4  11000.00  118800.0  104940.0       0.0       0.0   63855.0           15   \n",
       "\n",
       "   tenure  churn  Kartu B  Kartu C  \n",
       "0     776      0        0        0  \n",
       "1     352      0        0        0  \n",
       "2    1987      0        0        0  \n",
       "3     285      0        0        0  \n",
       "4    1081      0        0        0  "
      ]
     },
     "execution_count": 11,
     "metadata": {},
     "output_type": "execute_result"
    }
   ],
   "source": [
    "#new df\n",
    "df.head()"
   ]
  },
  {
   "cell_type": "markdown",
   "metadata": {},
   "source": [
    "## Feature Selection"
   ]
  },
  {
   "cell_type": "markdown",
   "metadata": {},
   "source": [
    "Here I use pearson correlation to eliminate features"
   ]
  },
  {
   "cell_type": "code",
   "execution_count": 12,
   "metadata": {},
   "outputs": [
    {
     "data": {
      "text/html": [
       "<div>\n",
       "<style scoped>\n",
       "    .dataframe tbody tr th:only-of-type {\n",
       "        vertical-align: middle;\n",
       "    }\n",
       "\n",
       "    .dataframe tbody tr th {\n",
       "        vertical-align: top;\n",
       "    }\n",
       "\n",
       "    .dataframe thead th {\n",
       "        text-align: right;\n",
       "    }\n",
       "</style>\n",
       "<table border=\"1\" class=\"dataframe\">\n",
       "  <thead>\n",
       "    <tr style=\"text-align: right;\">\n",
       "      <th></th>\n",
       "      <th>reload_1</th>\n",
       "      <th>reload_2</th>\n",
       "      <th>video</th>\n",
       "      <th>music</th>\n",
       "      <th>games</th>\n",
       "      <th>chat_1</th>\n",
       "      <th>chat_2</th>\n",
       "      <th>socmed_1</th>\n",
       "      <th>socmed_2</th>\n",
       "      <th>internet</th>\n",
       "      <th>days_active</th>\n",
       "      <th>tenure</th>\n",
       "      <th>churn</th>\n",
       "      <th>Kartu B</th>\n",
       "      <th>Kartu C</th>\n",
       "    </tr>\n",
       "  </thead>\n",
       "  <tbody>\n",
       "    <tr>\n",
       "      <th>reload_1</th>\n",
       "      <td>1.000000</td>\n",
       "      <td>0.921328</td>\n",
       "      <td>0.124707</td>\n",
       "      <td>0.119497</td>\n",
       "      <td>0.138294</td>\n",
       "      <td>0.437082</td>\n",
       "      <td>0.509029</td>\n",
       "      <td>0.038242</td>\n",
       "      <td>0.043553</td>\n",
       "      <td>0.723312</td>\n",
       "      <td>0.125625</td>\n",
       "      <td>0.111676</td>\n",
       "      <td>-0.060128</td>\n",
       "      <td>0.003940</td>\n",
       "      <td>0.003543</td>\n",
       "    </tr>\n",
       "    <tr>\n",
       "      <th>reload_2</th>\n",
       "      <td>0.921328</td>\n",
       "      <td>1.000000</td>\n",
       "      <td>0.177122</td>\n",
       "      <td>0.164522</td>\n",
       "      <td>0.197651</td>\n",
       "      <td>0.548072</td>\n",
       "      <td>0.613124</td>\n",
       "      <td>0.056299</td>\n",
       "      <td>0.064593</td>\n",
       "      <td>0.741254</td>\n",
       "      <td>0.163847</td>\n",
       "      <td>0.158608</td>\n",
       "      <td>-0.069266</td>\n",
       "      <td>-0.001628</td>\n",
       "      <td>0.008209</td>\n",
       "    </tr>\n",
       "    <tr>\n",
       "      <th>video</th>\n",
       "      <td>0.124707</td>\n",
       "      <td>0.177122</td>\n",
       "      <td>1.000000</td>\n",
       "      <td>0.728816</td>\n",
       "      <td>0.889757</td>\n",
       "      <td>0.104861</td>\n",
       "      <td>0.077843</td>\n",
       "      <td>0.012046</td>\n",
       "      <td>0.009932</td>\n",
       "      <td>0.204017</td>\n",
       "      <td>0.154818</td>\n",
       "      <td>0.077655</td>\n",
       "      <td>-0.065324</td>\n",
       "      <td>-0.031338</td>\n",
       "      <td>0.031407</td>\n",
       "    </tr>\n",
       "    <tr>\n",
       "      <th>music</th>\n",
       "      <td>0.119497</td>\n",
       "      <td>0.164522</td>\n",
       "      <td>0.728816</td>\n",
       "      <td>1.000000</td>\n",
       "      <td>0.891254</td>\n",
       "      <td>0.095405</td>\n",
       "      <td>0.080401</td>\n",
       "      <td>0.010349</td>\n",
       "      <td>0.011209</td>\n",
       "      <td>0.181892</td>\n",
       "      <td>0.145409</td>\n",
       "      <td>0.067706</td>\n",
       "      <td>-0.044716</td>\n",
       "      <td>-0.014977</td>\n",
       "      <td>0.017092</td>\n",
       "    </tr>\n",
       "    <tr>\n",
       "      <th>games</th>\n",
       "      <td>0.138294</td>\n",
       "      <td>0.197651</td>\n",
       "      <td>0.889757</td>\n",
       "      <td>0.891254</td>\n",
       "      <td>1.000000</td>\n",
       "      <td>0.109749</td>\n",
       "      <td>0.088795</td>\n",
       "      <td>0.012143</td>\n",
       "      <td>0.012362</td>\n",
       "      <td>0.212477</td>\n",
       "      <td>0.147984</td>\n",
       "      <td>0.068572</td>\n",
       "      <td>-0.021367</td>\n",
       "      <td>-0.007909</td>\n",
       "      <td>0.002825</td>\n",
       "    </tr>\n",
       "    <tr>\n",
       "      <th>chat_1</th>\n",
       "      <td>0.437082</td>\n",
       "      <td>0.548072</td>\n",
       "      <td>0.104861</td>\n",
       "      <td>0.095405</td>\n",
       "      <td>0.109749</td>\n",
       "      <td>1.000000</td>\n",
       "      <td>0.814156</td>\n",
       "      <td>0.056554</td>\n",
       "      <td>0.064903</td>\n",
       "      <td>0.568202</td>\n",
       "      <td>0.194446</td>\n",
       "      <td>0.174225</td>\n",
       "      <td>-0.103881</td>\n",
       "      <td>-0.032182</td>\n",
       "      <td>0.039051</td>\n",
       "    </tr>\n",
       "    <tr>\n",
       "      <th>chat_2</th>\n",
       "      <td>0.509029</td>\n",
       "      <td>0.613124</td>\n",
       "      <td>0.077843</td>\n",
       "      <td>0.080401</td>\n",
       "      <td>0.088795</td>\n",
       "      <td>0.814156</td>\n",
       "      <td>1.000000</td>\n",
       "      <td>0.058112</td>\n",
       "      <td>0.074690</td>\n",
       "      <td>0.532345</td>\n",
       "      <td>0.182524</td>\n",
       "      <td>0.178391</td>\n",
       "      <td>-0.096341</td>\n",
       "      <td>-0.037027</td>\n",
       "      <td>0.043483</td>\n",
       "    </tr>\n",
       "    <tr>\n",
       "      <th>socmed_1</th>\n",
       "      <td>0.038242</td>\n",
       "      <td>0.056299</td>\n",
       "      <td>0.012046</td>\n",
       "      <td>0.010349</td>\n",
       "      <td>0.012143</td>\n",
       "      <td>0.056554</td>\n",
       "      <td>0.058112</td>\n",
       "      <td>1.000000</td>\n",
       "      <td>0.886667</td>\n",
       "      <td>0.049377</td>\n",
       "      <td>0.063699</td>\n",
       "      <td>0.062629</td>\n",
       "      <td>-0.037082</td>\n",
       "      <td>-0.020894</td>\n",
       "      <td>0.021935</td>\n",
       "    </tr>\n",
       "    <tr>\n",
       "      <th>socmed_2</th>\n",
       "      <td>0.043553</td>\n",
       "      <td>0.064593</td>\n",
       "      <td>0.009932</td>\n",
       "      <td>0.011209</td>\n",
       "      <td>0.012362</td>\n",
       "      <td>0.064903</td>\n",
       "      <td>0.074690</td>\n",
       "      <td>0.886667</td>\n",
       "      <td>1.000000</td>\n",
       "      <td>0.057697</td>\n",
       "      <td>0.054827</td>\n",
       "      <td>0.068785</td>\n",
       "      <td>-0.019986</td>\n",
       "      <td>-0.005920</td>\n",
       "      <td>0.004662</td>\n",
       "    </tr>\n",
       "    <tr>\n",
       "      <th>internet</th>\n",
       "      <td>0.723312</td>\n",
       "      <td>0.741254</td>\n",
       "      <td>0.204017</td>\n",
       "      <td>0.181892</td>\n",
       "      <td>0.212477</td>\n",
       "      <td>0.568202</td>\n",
       "      <td>0.532345</td>\n",
       "      <td>0.049377</td>\n",
       "      <td>0.057697</td>\n",
       "      <td>1.000000</td>\n",
       "      <td>0.190023</td>\n",
       "      <td>0.160670</td>\n",
       "      <td>-0.094807</td>\n",
       "      <td>-0.020116</td>\n",
       "      <td>0.030022</td>\n",
       "    </tr>\n",
       "    <tr>\n",
       "      <th>days_active</th>\n",
       "      <td>0.125625</td>\n",
       "      <td>0.163847</td>\n",
       "      <td>0.154818</td>\n",
       "      <td>0.145409</td>\n",
       "      <td>0.147984</td>\n",
       "      <td>0.194446</td>\n",
       "      <td>0.182524</td>\n",
       "      <td>0.063699</td>\n",
       "      <td>0.054827</td>\n",
       "      <td>0.190023</td>\n",
       "      <td>1.000000</td>\n",
       "      <td>0.210405</td>\n",
       "      <td>-0.439398</td>\n",
       "      <td>-0.079017</td>\n",
       "      <td>0.099041</td>\n",
       "    </tr>\n",
       "    <tr>\n",
       "      <th>tenure</th>\n",
       "      <td>0.111676</td>\n",
       "      <td>0.158608</td>\n",
       "      <td>0.077655</td>\n",
       "      <td>0.067706</td>\n",
       "      <td>0.068572</td>\n",
       "      <td>0.174225</td>\n",
       "      <td>0.178391</td>\n",
       "      <td>0.062629</td>\n",
       "      <td>0.068785</td>\n",
       "      <td>0.160670</td>\n",
       "      <td>0.210405</td>\n",
       "      <td>1.000000</td>\n",
       "      <td>-0.199773</td>\n",
       "      <td>-0.062968</td>\n",
       "      <td>0.069152</td>\n",
       "    </tr>\n",
       "    <tr>\n",
       "      <th>churn</th>\n",
       "      <td>-0.060128</td>\n",
       "      <td>-0.069266</td>\n",
       "      <td>-0.065324</td>\n",
       "      <td>-0.044716</td>\n",
       "      <td>-0.021367</td>\n",
       "      <td>-0.103881</td>\n",
       "      <td>-0.096341</td>\n",
       "      <td>-0.037082</td>\n",
       "      <td>-0.019986</td>\n",
       "      <td>-0.094807</td>\n",
       "      <td>-0.439398</td>\n",
       "      <td>-0.199773</td>\n",
       "      <td>1.000000</td>\n",
       "      <td>0.198781</td>\n",
       "      <td>-0.272312</td>\n",
       "    </tr>\n",
       "    <tr>\n",
       "      <th>Kartu B</th>\n",
       "      <td>0.003940</td>\n",
       "      <td>-0.001628</td>\n",
       "      <td>-0.031338</td>\n",
       "      <td>-0.014977</td>\n",
       "      <td>-0.007909</td>\n",
       "      <td>-0.032182</td>\n",
       "      <td>-0.037027</td>\n",
       "      <td>-0.020894</td>\n",
       "      <td>-0.005920</td>\n",
       "      <td>-0.020116</td>\n",
       "      <td>-0.079017</td>\n",
       "      <td>-0.062968</td>\n",
       "      <td>0.198781</td>\n",
       "      <td>1.000000</td>\n",
       "      <td>-0.788122</td>\n",
       "    </tr>\n",
       "    <tr>\n",
       "      <th>Kartu C</th>\n",
       "      <td>0.003543</td>\n",
       "      <td>0.008209</td>\n",
       "      <td>0.031407</td>\n",
       "      <td>0.017092</td>\n",
       "      <td>0.002825</td>\n",
       "      <td>0.039051</td>\n",
       "      <td>0.043483</td>\n",
       "      <td>0.021935</td>\n",
       "      <td>0.004662</td>\n",
       "      <td>0.030022</td>\n",
       "      <td>0.099041</td>\n",
       "      <td>0.069152</td>\n",
       "      <td>-0.272312</td>\n",
       "      <td>-0.788122</td>\n",
       "      <td>1.000000</td>\n",
       "    </tr>\n",
       "  </tbody>\n",
       "</table>\n",
       "</div>"
      ],
      "text/plain": [
       "             reload_1  reload_2     video     music     games    chat_1  \\\n",
       "reload_1     1.000000  0.921328  0.124707  0.119497  0.138294  0.437082   \n",
       "reload_2     0.921328  1.000000  0.177122  0.164522  0.197651  0.548072   \n",
       "video        0.124707  0.177122  1.000000  0.728816  0.889757  0.104861   \n",
       "music        0.119497  0.164522  0.728816  1.000000  0.891254  0.095405   \n",
       "games        0.138294  0.197651  0.889757  0.891254  1.000000  0.109749   \n",
       "chat_1       0.437082  0.548072  0.104861  0.095405  0.109749  1.000000   \n",
       "chat_2       0.509029  0.613124  0.077843  0.080401  0.088795  0.814156   \n",
       "socmed_1     0.038242  0.056299  0.012046  0.010349  0.012143  0.056554   \n",
       "socmed_2     0.043553  0.064593  0.009932  0.011209  0.012362  0.064903   \n",
       "internet     0.723312  0.741254  0.204017  0.181892  0.212477  0.568202   \n",
       "days_active  0.125625  0.163847  0.154818  0.145409  0.147984  0.194446   \n",
       "tenure       0.111676  0.158608  0.077655  0.067706  0.068572  0.174225   \n",
       "churn       -0.060128 -0.069266 -0.065324 -0.044716 -0.021367 -0.103881   \n",
       "Kartu B      0.003940 -0.001628 -0.031338 -0.014977 -0.007909 -0.032182   \n",
       "Kartu C      0.003543  0.008209  0.031407  0.017092  0.002825  0.039051   \n",
       "\n",
       "               chat_2  socmed_1  socmed_2  internet  days_active    tenure  \\\n",
       "reload_1     0.509029  0.038242  0.043553  0.723312     0.125625  0.111676   \n",
       "reload_2     0.613124  0.056299  0.064593  0.741254     0.163847  0.158608   \n",
       "video        0.077843  0.012046  0.009932  0.204017     0.154818  0.077655   \n",
       "music        0.080401  0.010349  0.011209  0.181892     0.145409  0.067706   \n",
       "games        0.088795  0.012143  0.012362  0.212477     0.147984  0.068572   \n",
       "chat_1       0.814156  0.056554  0.064903  0.568202     0.194446  0.174225   \n",
       "chat_2       1.000000  0.058112  0.074690  0.532345     0.182524  0.178391   \n",
       "socmed_1     0.058112  1.000000  0.886667  0.049377     0.063699  0.062629   \n",
       "socmed_2     0.074690  0.886667  1.000000  0.057697     0.054827  0.068785   \n",
       "internet     0.532345  0.049377  0.057697  1.000000     0.190023  0.160670   \n",
       "days_active  0.182524  0.063699  0.054827  0.190023     1.000000  0.210405   \n",
       "tenure       0.178391  0.062629  0.068785  0.160670     0.210405  1.000000   \n",
       "churn       -0.096341 -0.037082 -0.019986 -0.094807    -0.439398 -0.199773   \n",
       "Kartu B     -0.037027 -0.020894 -0.005920 -0.020116    -0.079017 -0.062968   \n",
       "Kartu C      0.043483  0.021935  0.004662  0.030022     0.099041  0.069152   \n",
       "\n",
       "                churn   Kartu B   Kartu C  \n",
       "reload_1    -0.060128  0.003940  0.003543  \n",
       "reload_2    -0.069266 -0.001628  0.008209  \n",
       "video       -0.065324 -0.031338  0.031407  \n",
       "music       -0.044716 -0.014977  0.017092  \n",
       "games       -0.021367 -0.007909  0.002825  \n",
       "chat_1      -0.103881 -0.032182  0.039051  \n",
       "chat_2      -0.096341 -0.037027  0.043483  \n",
       "socmed_1    -0.037082 -0.020894  0.021935  \n",
       "socmed_2    -0.019986 -0.005920  0.004662  \n",
       "internet    -0.094807 -0.020116  0.030022  \n",
       "days_active -0.439398 -0.079017  0.099041  \n",
       "tenure      -0.199773 -0.062968  0.069152  \n",
       "churn        1.000000  0.198781 -0.272312  \n",
       "Kartu B      0.198781  1.000000 -0.788122  \n",
       "Kartu C     -0.272312 -0.788122  1.000000  "
      ]
     },
     "execution_count": 12,
     "metadata": {},
     "output_type": "execute_result"
    }
   ],
   "source": [
    "df.corr()"
   ]
  },
  {
   "cell_type": "code",
   "execution_count": 13,
   "metadata": {},
   "outputs": [
    {
     "data": {
      "text/plain": [
       "<matplotlib.axes._subplots.AxesSubplot at 0x19cdff9ed30>"
      ]
     },
     "execution_count": 13,
     "metadata": {},
     "output_type": "execute_result"
    },
    {
     "data": {
      "image/png": "[encoded data removed]",
      "text/plain": [
       "<Figure size 936x576 with 2 Axes>"
      ]
     },
     "metadata": {
      "needs_background": "light"
     },
     "output_type": "display_data"
    }
   ],
   "source": [
    "# use heatmap\n",
    "plt.figure(figsize=(13,8))\n",
    "sns.heatmap(df.corr(), cmap='viridis', annot=True)"
   ]
  },
  {
   "cell_type": "markdown",
   "metadata": {},
   "source": [
    "From the heatmap above, we can see that reload_1 and reload_2 have a high correlation coefficient, so we're just gonna use one of them for the training process."
   ]
  },
  {
   "cell_type": "markdown",
   "metadata": {},
   "source": [
    "Do the same process with socmed_1 and socmed_2, music and games"
   ]
  },
  {
   "cell_type": "code",
   "execution_count": 14,
   "metadata": {},
   "outputs": [],
   "source": [
    "#drop unused features\n",
    "df2=df.drop(['reload_2', 'socmed_2', 'games', 'customer_id'], axis=1)"
   ]
  },
  {
   "cell_type": "code",
   "execution_count": 15,
   "metadata": {},
   "outputs": [
    {
     "data": {
      "text/html": [
       "<div>\n",
       "<style scoped>\n",
       "    .dataframe tbody tr th:only-of-type {\n",
       "        vertical-align: middle;\n",
       "    }\n",
       "\n",
       "    .dataframe tbody tr th {\n",
       "        vertical-align: top;\n",
       "    }\n",
       "\n",
       "    .dataframe thead th {\n",
       "        text-align: right;\n",
       "    }\n",
       "</style>\n",
       "<table border=\"1\" class=\"dataframe\">\n",
       "  <thead>\n",
       "    <tr style=\"text-align: right;\">\n",
       "      <th></th>\n",
       "      <th>reload_1</th>\n",
       "      <th>video</th>\n",
       "      <th>music</th>\n",
       "      <th>chat_1</th>\n",
       "      <th>chat_2</th>\n",
       "      <th>socmed_1</th>\n",
       "      <th>internet</th>\n",
       "      <th>days_active</th>\n",
       "      <th>tenure</th>\n",
       "      <th>churn</th>\n",
       "      <th>Kartu B</th>\n",
       "      <th>Kartu C</th>\n",
       "    </tr>\n",
       "  </thead>\n",
       "  <tbody>\n",
       "    <tr>\n",
       "      <th>0</th>\n",
       "      <td>27734.30</td>\n",
       "      <td>22000.0</td>\n",
       "      <td>33009.9</td>\n",
       "      <td>1716.0</td>\n",
       "      <td>2145.0</td>\n",
       "      <td>0.0</td>\n",
       "      <td>11000.0</td>\n",
       "      <td>15</td>\n",
       "      <td>776</td>\n",
       "      <td>0</td>\n",
       "      <td>0</td>\n",
       "      <td>0</td>\n",
       "    </tr>\n",
       "    <tr>\n",
       "      <th>1</th>\n",
       "      <td>26433.00</td>\n",
       "      <td>0.0</td>\n",
       "      <td>0.0</td>\n",
       "      <td>0.0</td>\n",
       "      <td>15444.0</td>\n",
       "      <td>0.0</td>\n",
       "      <td>74151.0</td>\n",
       "      <td>13</td>\n",
       "      <td>352</td>\n",
       "      <td>0</td>\n",
       "      <td>0</td>\n",
       "      <td>0</td>\n",
       "    </tr>\n",
       "    <tr>\n",
       "      <th>2</th>\n",
       "      <td>93212.17</td>\n",
       "      <td>0.0</td>\n",
       "      <td>0.0</td>\n",
       "      <td>86795.5</td>\n",
       "      <td>94649.5</td>\n",
       "      <td>330.0</td>\n",
       "      <td>27467.0</td>\n",
       "      <td>15</td>\n",
       "      <td>1987</td>\n",
       "      <td>0</td>\n",
       "      <td>0</td>\n",
       "      <td>0</td>\n",
       "    </tr>\n",
       "    <tr>\n",
       "      <th>3</th>\n",
       "      <td>183.33</td>\n",
       "      <td>0.0</td>\n",
       "      <td>0.0</td>\n",
       "      <td>0.0</td>\n",
       "      <td>0.0</td>\n",
       "      <td>0.0</td>\n",
       "      <td>0.0</td>\n",
       "      <td>2</td>\n",
       "      <td>285</td>\n",
       "      <td>0</td>\n",
       "      <td>0</td>\n",
       "      <td>0</td>\n",
       "    </tr>\n",
       "    <tr>\n",
       "      <th>4</th>\n",
       "      <td>95296.67</td>\n",
       "      <td>0.0</td>\n",
       "      <td>0.0</td>\n",
       "      <td>118800.0</td>\n",
       "      <td>104940.0</td>\n",
       "      <td>0.0</td>\n",
       "      <td>63855.0</td>\n",
       "      <td>15</td>\n",
       "      <td>1081</td>\n",
       "      <td>0</td>\n",
       "      <td>0</td>\n",
       "      <td>0</td>\n",
       "    </tr>\n",
       "  </tbody>\n",
       "</table>\n",
       "</div>"
      ],
      "text/plain": [
       "   reload_1    video    music    chat_1    chat_2  socmed_1  internet  \\\n",
       "0  27734.30  22000.0  33009.9    1716.0    2145.0       0.0   11000.0   \n",
       "1  26433.00      0.0      0.0       0.0   15444.0       0.0   74151.0   \n",
       "2  93212.17      0.0      0.0   86795.5   94649.5     330.0   27467.0   \n",
       "3    183.33      0.0      0.0       0.0       0.0       0.0       0.0   \n",
       "4  95296.67      0.0      0.0  118800.0  104940.0       0.0   63855.0   \n",
       "\n",
       "   days_active  tenure  churn  Kartu B  Kartu C  \n",
       "0           15     776      0        0        0  \n",
       "1           13     352      0        0        0  \n",
       "2           15    1987      0        0        0  \n",
       "3            2     285      0        0        0  \n",
       "4           15    1081      0        0        0  "
      ]
     },
     "execution_count": 15,
     "metadata": {},
     "output_type": "execute_result"
    }
   ],
   "source": [
    "df2.head()"
   ]
  },
  {
   "cell_type": "code",
   "execution_count": 16,
   "metadata": {},
   "outputs": [],
   "source": [
    "from sklearn.model_selection import train_test_split"
   ]
  },
  {
   "cell_type": "code",
   "execution_count": 17,
   "metadata": {},
   "outputs": [],
   "source": [
    "X=df2.drop('churn', axis=1)"
   ]
  },
  {
   "cell_type": "code",
   "execution_count": 18,
   "metadata": {},
   "outputs": [],
   "source": [
    "y=df2['churn']"
   ]
  },
  {
   "cell_type": "code",
   "execution_count": 19,
   "metadata": {},
   "outputs": [],
   "source": [
    "#for this project I use 25% of the dataset as a test dataset\n",
    "X_train, X_test, y_train, y_test = train_test_split(X,y, test_size=0.25, random_state=101)"
   ]
  },
  {
   "cell_type": "markdown",
   "metadata": {},
   "source": [
    "## Building model from the dataset"
   ]
  },
  {
   "cell_type": "markdown",
   "metadata": {},
   "source": [
    "We're gonna compare some machine learning method to predict whether a passenger survived or not using only train data\n",
    "\n",
    "Some machine learning used here are: Logistic Regression, Random Forest, KNN, and Naive Bayes"
   ]
  },
  {
   "cell_type": "code",
   "execution_count": 20,
   "metadata": {},
   "outputs": [],
   "source": [
    "from sklearn.metrics import confusion_matrix, classification_report"
   ]
  },
  {
   "cell_type": "markdown",
   "metadata": {},
   "source": [
    "### Logistic Regression"
   ]
  },
  {
   "cell_type": "code",
   "execution_count": 21,
   "metadata": {},
   "outputs": [],
   "source": [
    "from sklearn.linear_model import LogisticRegression"
   ]
  },
  {
   "cell_type": "code",
   "execution_count": 22,
   "metadata": {},
   "outputs": [],
   "source": [
    "lm=LogisticRegression()"
   ]
  },
  {
   "cell_type": "code",
   "execution_count": 23,
   "metadata": {},
   "outputs": [
    {
     "name": "stderr",
     "output_type": "stream",
     "text": [
      "C:\\Users\\user\\anaconda3\\lib\\site-packages\\sklearn\\linear_model\\_logistic.py:762: ConvergenceWarning: lbfgs failed to converge (status=1):\n",
      "STOP: TOTAL NO. of ITERATIONS REACHED LIMIT.\n",
      "\n",
      "Increase the number of iterations (max_iter) or scale the data as shown in:\n",
      "    https://scikit-learn.org/stable/modules/preprocessing.html\n",
      "Please also refer to the documentation for alternative solver options:\n",
      "    https://scikit-learn.org/stable/modules/linear_model.html#logistic-regression\n",
      "  n_iter_i = _check_optimize_result(\n"
     ]
    },
    {
     "data": {
      "text/plain": [
       "LogisticRegression()"
      ]
     },
     "execution_count": 23,
     "metadata": {},
     "output_type": "execute_result"
    }
   ],
   "source": [
    "lm.fit(X_train, y_train)"
   ]
  },
  {
   "cell_type": "code",
   "execution_count": 24,
   "metadata": {},
   "outputs": [],
   "source": [
    "lmpredict=lm.predict(X_test)"
   ]
  },
  {
   "cell_type": "code",
   "execution_count": 25,
   "metadata": {},
   "outputs": [
    {
     "name": "stdout",
     "output_type": "stream",
     "text": [
      "[[2004    1]\n",
      " [ 489    6]]\n",
      "              precision    recall  f1-score   support\n",
      "\n",
      "           0       0.80      1.00      0.89      2005\n",
      "           1       0.86      0.01      0.02       495\n",
      "\n",
      "    accuracy                           0.80      2500\n",
      "   macro avg       0.83      0.51      0.46      2500\n",
      "weighted avg       0.81      0.80      0.72      2500\n",
      "\n"
     ]
    }
   ],
   "source": [
    "#check the model using confusion matrix and classification report\n",
    "print(confusion_matrix(y_test,lmpredict))\n",
    "print(classification_report(y_test,lmpredict))"
   ]
  },
  {
   "cell_type": "markdown",
   "metadata": {},
   "source": [
    "### Random Forest"
   ]
  },
  {
   "cell_type": "code",
   "execution_count": 26,
   "metadata": {},
   "outputs": [],
   "source": [
    "from sklearn.ensemble import RandomForestClassifier"
   ]
  },
  {
   "cell_type": "code",
   "execution_count": 27,
   "metadata": {},
   "outputs": [],
   "source": [
    "rfc=RandomForestClassifier()"
   ]
  },
  {
   "cell_type": "code",
   "execution_count": 28,
   "metadata": {},
   "outputs": [
    {
     "data": {
      "text/plain": [
       "RandomForestClassifier()"
      ]
     },
     "execution_count": 28,
     "metadata": {},
     "output_type": "execute_result"
    }
   ],
   "source": [
    "rfc.fit(X_train, y_train)"
   ]
  },
  {
   "cell_type": "code",
   "execution_count": 29,
   "metadata": {},
   "outputs": [],
   "source": [
    "rfcpredict=rfc.predict(X_test)"
   ]
  },
  {
   "cell_type": "code",
   "execution_count": 30,
   "metadata": {},
   "outputs": [
    {
     "name": "stdout",
     "output_type": "stream",
     "text": [
      "[[1916   89]\n",
      " [ 114  381]]\n",
      "              precision    recall  f1-score   support\n",
      "\n",
      "           0       0.94      0.96      0.95      2005\n",
      "           1       0.81      0.77      0.79       495\n",
      "\n",
      "    accuracy                           0.92      2500\n",
      "   macro avg       0.88      0.86      0.87      2500\n",
      "weighted avg       0.92      0.92      0.92      2500\n",
      "\n"
     ]
    }
   ],
   "source": [
    "#check the model using confusion matrix and classification report\n",
    "print(confusion_matrix(y_test,rfcpredict))\n",
    "print(classification_report(y_test,rfcpredict))"
   ]
  },
  {
   "cell_type": "markdown",
   "metadata": {},
   "source": [
    "### KNN"
   ]
  },
  {
   "cell_type": "code",
   "execution_count": 31,
   "metadata": {},
   "outputs": [],
   "source": [
    "from sklearn.neighbors import KNeighborsClassifier"
   ]
  },
  {
   "cell_type": "markdown",
   "metadata": {},
   "source": [
    "Use elbow method to determine the optimal n number for the KNN model"
   ]
  },
  {
   "cell_type": "code",
   "execution_count": 32,
   "metadata": {},
   "outputs": [],
   "source": [
    "err_rate=[]\n",
    "\n",
    "for i in range (1,50):\n",
    "    knn = KNeighborsClassifier(n_neighbors=i)\n",
    "    knn.fit(X_train, y_train)\n",
    "    pred_i = knn.predict(X_test)\n",
    "    err_rate.append(np.mean(pred_i != y_test))"
   ]
  },
  {
   "cell_type": "code",
   "execution_count": 33,
   "metadata": {},
   "outputs": [
    {
     "data": {
      "text/plain": [
       "([<matplotlib.axis.XTick at 0x19ce2438670>,\n",
       "  <matplotlib.axis.XTick at 0x19ce244c400>,\n",
       "  <matplotlib.axis.XTick at 0x19ce244a220>,\n",
       "  <matplotlib.axis.XTick at 0x19ce2467760>,\n",
       "  <matplotlib.axis.XTick at 0x19ce2467c70>,\n",
       "  <matplotlib.axis.XTick at 0x19ce24711c0>,\n",
       "  <matplotlib.axis.XTick at 0x19ce24716d0>,\n",
       "  <matplotlib.axis.XTick at 0x19ce24679d0>,\n",
       "  <matplotlib.axis.XTick at 0x19ce2471be0>,\n",
       "  <matplotlib.axis.XTick at 0x19ce2471f40>,\n",
       "  <matplotlib.axis.XTick at 0x19ce2475490>,\n",
       "  <matplotlib.axis.XTick at 0x19ce24759a0>,\n",
       "  <matplotlib.axis.XTick at 0x19ce2475eb0>,\n",
       "  <matplotlib.axis.XTick at 0x19ce247b400>,\n",
       "  <matplotlib.axis.XTick at 0x19ce247b910>,\n",
       "  <matplotlib.axis.XTick at 0x19ce247be20>,\n",
       "  <matplotlib.axis.XTick at 0x19ce2481370>,\n",
       "  <matplotlib.axis.XTick at 0x19ce247b4f0>,\n",
       "  <matplotlib.axis.XTick at 0x19ce2475580>,\n",
       "  <matplotlib.axis.XTick at 0x19ce2467850>,\n",
       "  <matplotlib.axis.XTick at 0x19ce2481880>,\n",
       "  <matplotlib.axis.XTick at 0x19ce2481d90>,\n",
       "  <matplotlib.axis.XTick at 0x19ce24872e0>,\n",
       "  <matplotlib.axis.XTick at 0x19ce24877f0>,\n",
       "  <matplotlib.axis.XTick at 0x19ce2487d00>,\n",
       "  <matplotlib.axis.XTick at 0x19ce248d250>,\n",
       "  <matplotlib.axis.XTick at 0x19ce248d760>,\n",
       "  <matplotlib.axis.XTick at 0x19ce2487460>,\n",
       "  <matplotlib.axis.XTick at 0x19ce24810d0>,\n",
       "  <matplotlib.axis.XTick at 0x19ce248d820>,\n",
       "  <matplotlib.axis.XTick at 0x19ce248dc70>,\n",
       "  <matplotlib.axis.XTick at 0x19ce2494250>,\n",
       "  <matplotlib.axis.XTick at 0x19ce24947f0>,\n",
       "  <matplotlib.axis.XTick at 0x19ce2494d90>,\n",
       "  <matplotlib.axis.XTick at 0x19ce2498370>,\n",
       "  <matplotlib.axis.XTick at 0x19ce2498910>,\n",
       "  <matplotlib.axis.XTick at 0x19ce2498eb0>,\n",
       "  <matplotlib.axis.XTick at 0x19ce248ddc0>,\n",
       "  <matplotlib.axis.XTick at 0x19ce2481e20>,\n",
       "  <matplotlib.axis.XTick at 0x19ce2498490>,\n",
       "  <matplotlib.axis.XTick at 0x19ce24a0520>,\n",
       "  <matplotlib.axis.XTick at 0x19ce24a0af0>,\n",
       "  <matplotlib.axis.XTick at 0x19ce24a30d0>,\n",
       "  <matplotlib.axis.XTick at 0x19ce24a3670>,\n",
       "  <matplotlib.axis.XTick at 0x19ce24a3c10>,\n",
       "  <matplotlib.axis.XTick at 0x19ce24a91f0>,\n",
       "  <matplotlib.axis.XTick at 0x19ce24a3850>,\n",
       "  <matplotlib.axis.XTick at 0x19ce24a0640>,\n",
       "  <matplotlib.axis.XTick at 0x19ce248dd00>],\n",
       " <a list of 49 Text major ticklabel objects>)"
      ]
     },
     "execution_count": 33,
     "metadata": {},
     "output_type": "execute_result"
    },
    {
     "data": {
      "image/png": "[encoded data removed]",
      "text/plain": [
       "<Figure size 864x360 with 1 Axes>"
      ]
     },
     "metadata": {
      "needs_background": "light"
     },
     "output_type": "display_data"
    }
   ],
   "source": [
    "plt.figure(figsize=(12,5))\n",
    "sns.set_style('whitegrid')\n",
    "plt.plot(range(1,50),err_rate, color='green', marker='d', ls='--')\n",
    "plt.xticks(np.arange(1,50,1))"
   ]
  },
  {
   "cell_type": "markdown",
   "metadata": {},
   "source": [
    "From the figure above, we can see that the optimal number is 2"
   ]
  },
  {
   "cell_type": "code",
   "execution_count": 34,
   "metadata": {},
   "outputs": [],
   "source": [
    "knn=KNeighborsClassifier(n_neighbors=2)"
   ]
  },
  {
   "cell_type": "code",
   "execution_count": 35,
   "metadata": {},
   "outputs": [
    {
     "data": {
      "text/plain": [
       "KNeighborsClassifier(n_neighbors=2)"
      ]
     },
     "execution_count": 35,
     "metadata": {},
     "output_type": "execute_result"
    }
   ],
   "source": [
    "knn.fit(X_train, y_train)"
   ]
  },
  {
   "cell_type": "code",
   "execution_count": 36,
   "metadata": {},
   "outputs": [],
   "source": [
    "knnpredict=knn.predict(X_test)"
   ]
  },
  {
   "cell_type": "code",
   "execution_count": 37,
   "metadata": {},
   "outputs": [
    {
     "name": "stdout",
     "output_type": "stream",
     "text": [
      "[[2004    1]\n",
      " [ 489    6]]\n",
      "              precision    recall  f1-score   support\n",
      "\n",
      "           0       0.89      0.97      0.93      2005\n",
      "           1       0.81      0.54      0.65       495\n",
      "\n",
      "    accuracy                           0.88      2500\n",
      "   macro avg       0.85      0.75      0.79      2500\n",
      "weighted avg       0.88      0.88      0.87      2500\n",
      "\n"
     ]
    }
   ],
   "source": [
    "#check the model using confusion matrix and classification report\n",
    "print(confusion_matrix(y_test,lmpredict))\n",
    "print(classification_report(y_test,knnpredict))"
   ]
  },
  {
   "cell_type": "markdown",
   "metadata": {},
   "source": [
    "### Naive Bayes (Gaussian)"
   ]
  },
  {
   "cell_type": "code",
   "execution_count": 38,
   "metadata": {},
   "outputs": [],
   "source": [
    "from sklearn.naive_bayes import GaussianNB"
   ]
  },
  {
   "cell_type": "code",
   "execution_count": 39,
   "metadata": {},
   "outputs": [],
   "source": [
    "gnb=GaussianNB()"
   ]
  },
  {
   "cell_type": "code",
   "execution_count": 40,
   "metadata": {},
   "outputs": [
    {
     "data": {
      "text/plain": [
       "GaussianNB()"
      ]
     },
     "execution_count": 40,
     "metadata": {},
     "output_type": "execute_result"
    }
   ],
   "source": [
    "gnb.fit(X_train, y_train)"
   ]
  },
  {
   "cell_type": "code",
   "execution_count": 41,
   "metadata": {},
   "outputs": [],
   "source": [
    "gnbpredict=gnb.predict(X_test)"
   ]
  },
  {
   "cell_type": "code",
   "execution_count": 42,
   "metadata": {},
   "outputs": [
    {
     "name": "stdout",
     "output_type": "stream",
     "text": [
      "[[ 653 1352]\n",
      " [  15  480]]\n",
      "              precision    recall  f1-score   support\n",
      "\n",
      "           0       0.98      0.33      0.49      2005\n",
      "           1       0.26      0.97      0.41       495\n",
      "\n",
      "    accuracy                           0.45      2500\n",
      "   macro avg       0.62      0.65      0.45      2500\n",
      "weighted avg       0.84      0.45      0.47      2500\n",
      "\n"
     ]
    }
   ],
   "source": [
    "#check the model using confusion matrix and classification report\n",
    "print(confusion_matrix(y_test,gnbpredict))\n",
    "print(classification_report(y_test,gnbpredict))"
   ]
  },
  {
   "cell_type": "markdown",
   "metadata": {},
   "source": [
    "So all in all, we can see that <strong> random forest classifier </strong> is the best model for this case with accuracy score of 93%, precision score 94% and recall score 97%."
   ]
  },
  {
   "cell_type": "markdown",
   "metadata": {},
   "source": [
    "## Thank You"
   ]
  }
 ],
 "metadata": {
  "kernelspec": {
   "display_name": "Python 3",
   "language": "python",
   "name": "python3"
  },
  "language_info": {
   "codemirror_mode": {
    "name": "ipython",
    "version": 3
   },
   "file_extension": ".py",
   "mimetype": "text/x-python",
   "name": "python",
   "nbconvert_exporter": "python",
   "pygments_lexer": "ipython3",
   "version": "3.8.3"
  }
 },
 "nbformat": 4,
 "nbformat_minor": 4
}
